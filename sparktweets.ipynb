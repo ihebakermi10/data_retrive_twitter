{
 "cells": [
  {
   "cell_type": "code",
   "execution_count": 1,
   "metadata": {},
   "outputs": [
    {
     "name": "stdout",
     "output_type": "stream",
     "text": [
      "Requirement already satisfied: tweepy in c:\\users\\iheb akermi\\appdata\\local\\programs\\python\\python311\\lib\\site-packages (4.13.0)\n",
      "Requirement already satisfied: oauthlib<4,>=3.2.0 in c:\\users\\iheb akermi\\appdata\\local\\programs\\python\\python311\\lib\\site-packages (from tweepy) (3.2.2)\n",
      "Requirement already satisfied: requests<3,>=2.27.0 in c:\\users\\iheb akermi\\appdata\\local\\programs\\python\\python311\\lib\\site-packages (from tweepy) (2.28.1)\n",
      "Requirement already satisfied: requests-oauthlib<2,>=1.2.0 in c:\\users\\iheb akermi\\appdata\\local\\programs\\python\\python311\\lib\\site-packages (from tweepy) (1.3.1)\n",
      "Requirement already satisfied: charset-normalizer<3,>=2 in c:\\users\\iheb akermi\\appdata\\local\\programs\\python\\python311\\lib\\site-packages (from requests<3,>=2.27.0->tweepy) (2.1.1)\n",
      "Requirement already satisfied: idna<4,>=2.5 in c:\\users\\iheb akermi\\appdata\\local\\programs\\python\\python311\\lib\\site-packages (from requests<3,>=2.27.0->tweepy) (3.4)\n",
      "Requirement already satisfied: urllib3<1.27,>=1.21.1 in c:\\users\\iheb akermi\\appdata\\local\\programs\\python\\python311\\lib\\site-packages (from requests<3,>=2.27.0->tweepy) (1.26.13)\n",
      "Requirement already satisfied: certifi>=2017.4.17 in c:\\users\\iheb akermi\\appdata\\local\\programs\\python\\python311\\lib\\site-packages (from requests<3,>=2.27.0->tweepy) (2022.12.7)\n",
      "Note: you may need to restart the kernel to use updated packages.\n"
     ]
    }
   ],
   "source": [
    "\n",
    "%pip install tweepy --upgrade"
   ]
  },
  {
   "cell_type": "code",
   "execution_count": 2,
   "metadata": {},
   "outputs": [
    {
     "name": "stdout",
     "output_type": "stream",
     "text": [
      "AAAAAAAAAAAAAAAAAAAAAFLkmgEAAAAA3ZWtXzSXNBgs%2BC2Eh5V1kWOZ5W8%3DvShcllXXckTRQ9oJsRyOZRdwTounlzcdjt7iVDRcx2lKdlYSaO\n"
     ]
    }
   ],
   "source": [
    "import  tweepy \n",
    "import config \n",
    "print(config.Bearer_Token)\n"
   ]
  },
  {
   "cell_type": "code",
   "execution_count": 3,
   "metadata": {},
   "outputs": [
    {
     "ename": "Unauthorized",
     "evalue": "401 Unauthorized\n89 - Invalid or expired token.",
     "output_type": "error",
     "traceback": [
      "\u001b[1;31m---------------------------------------------------------------------------\u001b[0m",
      "\u001b[1;31mUnauthorized\u001b[0m                              Traceback (most recent call last)",
      "Cell \u001b[1;32mIn[3], line 17\u001b[0m\n\u001b[0;32m     11\u001b[0m auth \u001b[39m=\u001b[39m OAuth1UserHandler(\n\u001b[0;32m     12\u001b[0m     consumer_key, consumer_secret, access_token, access_token_secret\n\u001b[0;32m     13\u001b[0m )\n\u001b[0;32m     15\u001b[0m api \u001b[39m=\u001b[39m tweepy\u001b[39m.\u001b[39mAPI(auth)\n\u001b[1;32m---> 17\u001b[0m tweets \u001b[39m=\u001b[39m api\u001b[39m.\u001b[39;49msearch_tweets(\n\u001b[0;32m     18\u001b[0m     q\u001b[39m=\u001b[39;49m\u001b[39m'\u001b[39;49m\u001b[39mcovid\u001b[39;49m\u001b[39m'\u001b[39;49m, count\u001b[39m=\u001b[39;49m\u001b[39m100\u001b[39;49m)\n\u001b[0;32m     20\u001b[0m \u001b[39mfor\u001b[39;00m tweet \u001b[39min\u001b[39;00m tweets:\n\u001b[0;32m     21\u001b[0m     \u001b[39mprint\u001b[39m(tweet\u001b[39m.\u001b[39mtext)\n",
      "File \u001b[1;32mc:\\Users\\iheb akermi\\AppData\\Local\\Programs\\Python\\Python311\\Lib\\site-packages\\tweepy\\api.py:33\u001b[0m, in \u001b[0;36mpagination.<locals>.decorator.<locals>.wrapper\u001b[1;34m(*args, **kwargs)\u001b[0m\n\u001b[0;32m     31\u001b[0m \u001b[39m@functools\u001b[39m\u001b[39m.\u001b[39mwraps(method)\n\u001b[0;32m     32\u001b[0m \u001b[39mdef\u001b[39;00m \u001b[39mwrapper\u001b[39m(\u001b[39m*\u001b[39margs, \u001b[39m*\u001b[39m\u001b[39m*\u001b[39mkwargs):\n\u001b[1;32m---> 33\u001b[0m     \u001b[39mreturn\u001b[39;00m method(\u001b[39m*\u001b[39;49margs, \u001b[39m*\u001b[39;49m\u001b[39m*\u001b[39;49mkwargs)\n",
      "File \u001b[1;32mc:\\Users\\iheb akermi\\AppData\\Local\\Programs\\Python\\Python311\\Lib\\site-packages\\tweepy\\api.py:46\u001b[0m, in \u001b[0;36mpayload.<locals>.decorator.<locals>.wrapper\u001b[1;34m(*args, **kwargs)\u001b[0m\n\u001b[0;32m     44\u001b[0m kwargs[\u001b[39m'\u001b[39m\u001b[39mpayload_list\u001b[39m\u001b[39m'\u001b[39m] \u001b[39m=\u001b[39m payload_list\n\u001b[0;32m     45\u001b[0m kwargs[\u001b[39m'\u001b[39m\u001b[39mpayload_type\u001b[39m\u001b[39m'\u001b[39m] \u001b[39m=\u001b[39m payload_type\n\u001b[1;32m---> 46\u001b[0m \u001b[39mreturn\u001b[39;00m method(\u001b[39m*\u001b[39;49margs, \u001b[39m*\u001b[39;49m\u001b[39m*\u001b[39;49mkwargs)\n",
      "File \u001b[1;32mc:\\Users\\iheb akermi\\AppData\\Local\\Programs\\Python\\Python311\\Lib\\site-packages\\tweepy\\api.py:1309\u001b[0m, in \u001b[0;36mAPI.search_tweets\u001b[1;34m(self, q, **kwargs)\u001b[0m\n\u001b[0;32m   1215\u001b[0m \u001b[39m@pagination\u001b[39m(mode\u001b[39m=\u001b[39m\u001b[39m'\u001b[39m\u001b[39mid\u001b[39m\u001b[39m'\u001b[39m)\n\u001b[0;32m   1216\u001b[0m \u001b[39m@payload\u001b[39m(\u001b[39m'\u001b[39m\u001b[39msearch_results\u001b[39m\u001b[39m'\u001b[39m)\n\u001b[0;32m   1217\u001b[0m \u001b[39mdef\u001b[39;00m \u001b[39msearch_tweets\u001b[39m(\u001b[39mself\u001b[39m, q, \u001b[39m*\u001b[39m\u001b[39m*\u001b[39mkwargs):\n\u001b[0;32m   1218\u001b[0m \u001b[39m    \u001b[39m\u001b[39m\"\"\"search_tweets(q, *, geocode, lang, locale, result_type, count, \\\u001b[39;00m\n\u001b[0;32m   1219\u001b[0m \u001b[39m                     until, since_id, max_id, include_entities)\u001b[39;00m\n\u001b[0;32m   1220\u001b[0m \n\u001b[1;32m   (...)\u001b[0m\n\u001b[0;32m   1307\u001b[0m \u001b[39m    .. _Twitter's documentation on the standard search API: https://developer.twitter.com/en/docs/twitter-api/v1/tweets/search/overview\u001b[39;00m\n\u001b[0;32m   1308\u001b[0m \u001b[39m    \"\"\"\u001b[39;00m\n\u001b[1;32m-> 1309\u001b[0m     \u001b[39mreturn\u001b[39;00m \u001b[39mself\u001b[39;49m\u001b[39m.\u001b[39;49mrequest(\n\u001b[0;32m   1310\u001b[0m         \u001b[39m'\u001b[39;49m\u001b[39mGET\u001b[39;49m\u001b[39m'\u001b[39;49m, \u001b[39m'\u001b[39;49m\u001b[39msearch/tweets\u001b[39;49m\u001b[39m'\u001b[39;49m, endpoint_parameters\u001b[39m=\u001b[39;49m(\n\u001b[0;32m   1311\u001b[0m             \u001b[39m'\u001b[39;49m\u001b[39mq\u001b[39;49m\u001b[39m'\u001b[39;49m, \u001b[39m'\u001b[39;49m\u001b[39mgeocode\u001b[39;49m\u001b[39m'\u001b[39;49m, \u001b[39m'\u001b[39;49m\u001b[39mlang\u001b[39;49m\u001b[39m'\u001b[39;49m, \u001b[39m'\u001b[39;49m\u001b[39mlocale\u001b[39;49m\u001b[39m'\u001b[39;49m, \u001b[39m'\u001b[39;49m\u001b[39mresult_type\u001b[39;49m\u001b[39m'\u001b[39;49m, \u001b[39m'\u001b[39;49m\u001b[39mcount\u001b[39;49m\u001b[39m'\u001b[39;49m,\n\u001b[0;32m   1312\u001b[0m             \u001b[39m'\u001b[39;49m\u001b[39muntil\u001b[39;49m\u001b[39m'\u001b[39;49m, \u001b[39m'\u001b[39;49m\u001b[39msince_id\u001b[39;49m\u001b[39m'\u001b[39;49m, \u001b[39m'\u001b[39;49m\u001b[39mmax_id\u001b[39;49m\u001b[39m'\u001b[39;49m, \u001b[39m'\u001b[39;49m\u001b[39minclude_entities\u001b[39;49m\u001b[39m'\u001b[39;49m\n\u001b[0;32m   1313\u001b[0m         ), q\u001b[39m=\u001b[39;49mq, \u001b[39m*\u001b[39;49m\u001b[39m*\u001b[39;49mkwargs\n\u001b[0;32m   1314\u001b[0m     )\n",
      "File \u001b[1;32mc:\\Users\\iheb akermi\\AppData\\Local\\Programs\\Python\\Python311\\Lib\\site-packages\\tweepy\\api.py:263\u001b[0m, in \u001b[0;36mAPI.request\u001b[1;34m(self, method, endpoint, endpoint_parameters, params, headers, json_payload, parser, payload_list, payload_type, post_data, files, require_auth, return_cursors, upload_api, use_cache, **kwargs)\u001b[0m\n\u001b[0;32m    261\u001b[0m     \u001b[39mraise\u001b[39;00m BadRequest(resp)\n\u001b[0;32m    262\u001b[0m \u001b[39mif\u001b[39;00m resp\u001b[39m.\u001b[39mstatus_code \u001b[39m==\u001b[39m \u001b[39m401\u001b[39m:\n\u001b[1;32m--> 263\u001b[0m     \u001b[39mraise\u001b[39;00m Unauthorized(resp)\n\u001b[0;32m    264\u001b[0m \u001b[39mif\u001b[39;00m resp\u001b[39m.\u001b[39mstatus_code \u001b[39m==\u001b[39m \u001b[39m403\u001b[39m:\n\u001b[0;32m    265\u001b[0m     \u001b[39mraise\u001b[39;00m Forbidden(resp)\n",
      "\u001b[1;31mUnauthorized\u001b[0m: 401 Unauthorized\n89 - Invalid or expired token."
     ]
    }
   ],
   "source": [
    "import config\n",
    "import tweepy\n",
    "from tweepy import OAuth1UserHandler\n",
    "from tweepy import API\n",
    "\n",
    "consumer_key = config.API_Key\n",
    "consumer_secret = config.API_Key_Secret\n",
    "access_token = config.Access_Token_Secret\n",
    "access_token_secret = config.Access_Token_Secret\n",
    "\n",
    "auth = OAuth1UserHandler(\n",
    "    consumer_key, consumer_secret, access_token, access_token_secret\n",
    ")\n",
    "\n",
    "api = tweepy.API(auth)\n",
    "\n",
    "tweets = api.search_tweets(\n",
    "    q='covid', count=100)\n",
    "\n",
    "for tweet in tweets:\n",
    "    print(tweet.text)"
   ]
  },
  {
   "cell_type": "code",
   "execution_count": null,
   "metadata": {},
   "outputs": [
    {
     "name": "stdout",
     "output_type": "stream",
     "text": [
      "Requirement already satisfied: tweepy in c:\\users\\iheb akermi\\appdata\\local\\programs\\python\\python311\\lib\\site-packages (4.13.0)\n",
      "Requirement already satisfied: oauthlib<4,>=3.2.0 in c:\\users\\iheb akermi\\appdata\\local\\programs\\python\\python311\\lib\\site-packages (from tweepy) (3.2.2)\n",
      "Requirement already satisfied: requests<3,>=2.27.0 in c:\\users\\iheb akermi\\appdata\\local\\programs\\python\\python311\\lib\\site-packages (from tweepy) (2.28.1)\n",
      "Requirement already satisfied: requests-oauthlib<2,>=1.2.0 in c:\\users\\iheb akermi\\appdata\\local\\programs\\python\\python311\\lib\\site-packages (from tweepy) (1.3.1)\n",
      "Requirement already satisfied: charset-normalizer<3,>=2 in c:\\users\\iheb akermi\\appdata\\local\\programs\\python\\python311\\lib\\site-packages (from requests<3,>=2.27.0->tweepy) (2.1.1)\n",
      "Requirement already satisfied: idna<4,>=2.5 in c:\\users\\iheb akermi\\appdata\\local\\programs\\python\\python311\\lib\\site-packages (from requests<3,>=2.27.0->tweepy) (3.4)\n",
      "Requirement already satisfied: urllib3<1.27,>=1.21.1 in c:\\users\\iheb akermi\\appdata\\local\\programs\\python\\python311\\lib\\site-packages (from requests<3,>=2.27.0->tweepy) (1.26.13)\n",
      "Requirement already satisfied: certifi>=2017.4.17 in c:\\users\\iheb akermi\\appdata\\local\\programs\\python\\python311\\lib\\site-packages (from requests<3,>=2.27.0->tweepy) (2022.12.7)\n",
      "Note: you may need to restart the kernel to use updated packages.\n"
     ]
    },
    {
     "ename": "TweepyException",
     "evalue": "Expected token_type to equal \"bearer\", but got None instead",
     "output_type": "error",
     "traceback": [
      "\u001b[1;31m---------------------------------------------------------------------------\u001b[0m",
      "\u001b[1;31mTweepyException\u001b[0m                           Traceback (most recent call last)",
      "Cell \u001b[1;32mIn[1], line 9\u001b[0m\n\u001b[0;32m      6\u001b[0m client_key \u001b[39m=\u001b[39m \u001b[39m'\u001b[39m\u001b[39mcXg0RzhUYmh0bFF4S09ZV2U4Zmc6MTpjaQ\u001b[39m\u001b[39m'\u001b[39m\n\u001b[0;32m      7\u001b[0m client_secret \u001b[39m=\u001b[39m \u001b[39m'\u001b[39m\u001b[39m44re1yqSLV-UgUCZ2BCfBHkMqHnFJnwi_RdNicfbO6Uh62r23y\u001b[39m\u001b[39m'\u001b[39m\n\u001b[1;32m----> 9\u001b[0m auth \u001b[39m=\u001b[39m AppAuthHandler(client_key, client_secret)\n\u001b[0;32m     10\u001b[0m api \u001b[39m=\u001b[39m tweepy\u001b[39m.\u001b[39mAPI(auth)\n\u001b[0;32m     12\u001b[0m tweets \u001b[39m=\u001b[39m api\u001b[39m.\u001b[39msearch_tweets(q\u001b[39m=\u001b[39m\u001b[39m'\u001b[39m\u001b[39mcovid\u001b[39m\u001b[39m'\u001b[39m, count\u001b[39m=\u001b[39m\u001b[39m100\u001b[39m)\n",
      "File \u001b[1;32mc:\\Users\\iheb akermi\\AppData\\Local\\Programs\\Python\\Python311\\Lib\\site-packages\\tweepy\\auth.py:169\u001b[0m, in \u001b[0;36mAppAuthHandler.__init__\u001b[1;34m(self, consumer_key, consumer_secret)\u001b[0m\n\u001b[0;32m    164\u001b[0m \u001b[39mdef\u001b[39;00m \u001b[39m__init__\u001b[39m(\u001b[39mself\u001b[39m, consumer_key, consumer_secret):\n\u001b[0;32m    165\u001b[0m     warnings\u001b[39m.\u001b[39mwarn(\n\u001b[0;32m    166\u001b[0m         \u001b[39m\"\u001b[39m\u001b[39mAppAuthHandler is deprecated; use OAuth2AppHandler instead.\u001b[39m\u001b[39m\"\u001b[39m,\n\u001b[0;32m    167\u001b[0m         \u001b[39mDeprecationWarning\u001b[39;00m\n\u001b[0;32m    168\u001b[0m     )\n\u001b[1;32m--> 169\u001b[0m     \u001b[39msuper\u001b[39;49m()\u001b[39m.\u001b[39;49m\u001b[39m__init__\u001b[39;49m(consumer_key, consumer_secret)\n",
      "File \u001b[1;32mc:\\Users\\iheb akermi\\AppData\\Local\\Programs\\Python\\Python311\\Lib\\site-packages\\tweepy\\auth.py:148\u001b[0m, in \u001b[0;36mOAuth2AppHandler.__init__\u001b[1;34m(self, consumer_key, consumer_secret)\u001b[0m\n\u001b[0;32m    146\u001b[0m data \u001b[39m=\u001b[39m resp\u001b[39m.\u001b[39mjson()\n\u001b[0;32m    147\u001b[0m \u001b[39mif\u001b[39;00m data\u001b[39m.\u001b[39mget(\u001b[39m'\u001b[39m\u001b[39mtoken_type\u001b[39m\u001b[39m'\u001b[39m) \u001b[39m!=\u001b[39m \u001b[39m'\u001b[39m\u001b[39mbearer\u001b[39m\u001b[39m'\u001b[39m:\n\u001b[1;32m--> 148\u001b[0m     \u001b[39mraise\u001b[39;00m TweepyException(\u001b[39m'\u001b[39m\u001b[39mExpected token_type to equal \u001b[39m\u001b[39m\"\u001b[39m\u001b[39mbearer\u001b[39m\u001b[39m\"\u001b[39m\u001b[39m, \u001b[39m\u001b[39m'\u001b[39m\n\u001b[0;32m    149\u001b[0m                           \u001b[39mf\u001b[39m\u001b[39m'\u001b[39m\u001b[39mbut got \u001b[39m\u001b[39m{\u001b[39;00mdata\u001b[39m.\u001b[39mget(\u001b[39m\"\u001b[39m\u001b[39mtoken_type\u001b[39m\u001b[39m\"\u001b[39m)\u001b[39m}\u001b[39;00m\u001b[39m instead\u001b[39m\u001b[39m'\u001b[39m)\n\u001b[0;32m    151\u001b[0m \u001b[39mself\u001b[39m\u001b[39m.\u001b[39m_bearer_token \u001b[39m=\u001b[39m data[\u001b[39m'\u001b[39m\u001b[39maccess_token\u001b[39m\u001b[39m'\u001b[39m]\n",
      "\u001b[1;31mTweepyException\u001b[0m: Expected token_type to equal \"bearer\", but got None instead"
     ]
    }
   ],
   "source": [
    "%pip install tweepy\n",
    "import tweepy\n",
    "from tweepy import  API\n",
    "from tweepy.auth import AppAuthHandler\n",
    "\n",
    "client_key = 'cXg0RzhUYmh0bFF4S09ZV2U4Zmc6MTpjaQ'\n",
    "client_secret = '44re1yqSLV-UgUCZ2BCfBHkMqHnFJnwi_RdNicfbO6Uh62r23y'\n",
    "\n",
    "auth = AppAuthHandler(client_key, client_secret)\n",
    "api = tweepy.API(auth)\n",
    "\n",
    "tweets = api.search_tweets(q='covid', count=100)\n",
    "\n",
    "for tweet in tweets:\n",
    "    print(tweet.text)\n"
   ]
  },
  {
   "cell_type": "code",
   "execution_count": null,
   "metadata": {},
   "outputs": [],
   "source": [
    "import config\n",
    "import tweepy\n",
    "from tweepy import OAuth1UserHandler\n",
    "from tweepy import API\n",
    "\n",
    "consumer_key = config.API_Key\n",
    "consumer_secret = config.API_Key_Secret\n",
    "access_token = config.Access_Token_Secret\n",
    "access_token_secret = config.Access_Token_Secret\n",
    "\n",
    "client = tweepy.Client(config.Bearer_Token,config.API_Key,config.API_Key_Secret,config.Access_Token,config.Access_Token_Secret)\n",
    "auth = tweepy.OAuth1UserHandler(config.API_Key,config.API_Key_Secret,config.Access_Token,config.Access_Token_Secret)\n",
    "api = tweepy.API(auth)"
   ]
  },
  {
   "cell_type": "code",
   "execution_count": null,
   "metadata": {},
   "outputs": [
    {
     "name": "stdout",
     "output_type": "stream",
     "text": [
      "1646931809161318401\n",
      "en\n",
      "1646931808968396800\n",
      "nl\n",
      "1646931807441387523\n",
      "en\n",
      "1646931807135313923\n",
      "en\n",
      "1646931806518665218\n",
      "es\n",
      "1646931805323288576\n",
      "en\n",
      "1646931804543148032\n",
      "en\n",
      "1646931802018435072\n",
      "en\n",
      "1646931801934381056\n",
      "en\n",
      "1646931801095671808\n",
      "en\n"
     ]
    }
   ],
   "source": [
    "\n",
    "tweets = api.search_tweets(\n",
    "    q='covid', count=10)\n",
    "\n",
    "for tweet in tweets:\n",
    "    print(tweet.id)\n",
    "    print(tweet.lang)"
   ]
  },
  {
   "cell_type": "code",
   "execution_count": null,
   "metadata": {},
   "outputs": [],
   "source": []
  }
 ],
 "metadata": {
  "kernelspec": {
   "display_name": "Python 3",
   "language": "python",
   "name": "python3"
  },
  "language_info": {
   "codemirror_mode": {
    "name": "ipython",
    "version": 3
   },
   "file_extension": ".py",
   "mimetype": "text/x-python",
   "name": "python",
   "nbconvert_exporter": "python",
   "pygments_lexer": "ipython3",
   "version": "3.11.2"
  },
  "orig_nbformat": 4
 },
 "nbformat": 4,
 "nbformat_minor": 2
}
